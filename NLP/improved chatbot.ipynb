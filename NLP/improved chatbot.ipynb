{
 "cells": [
  {
   "cell_type": "code",
   "execution_count": 16,
   "id": "56158093",
   "metadata": {},
   "outputs": [],
   "source": [
    "# import nltk\n",
    "# import ssl\n",
    "\n",
    "# try:\n",
    "#     _create_unverified_https_context = ssl._create_unverified_context\n",
    "# except AttributeError:\n",
    "#     pass\n",
    "# else:\n",
    "#     ssl._create_default_https_context = _create_unverified_https_context\n",
    "# nltk.download('punkt')\n",
    "# nltk.download('conll2000')"
   ]
  },
  {
   "cell_type": "code",
   "execution_count": 17,
   "id": "30dc22b1",
   "metadata": {},
   "outputs": [],
   "source": [
    "from textblob import TextBlob\n",
    "from textblob.np_extractors import ConllExtractor\n",
    "# import and create a Conll extractor to use later "
   ]
  },
  {
   "cell_type": "code",
   "execution_count": 18,
   "id": "eed30161",
   "metadata": {},
   "outputs": [],
   "source": [
    "extractor = ConllExtractor()"
   ]
  },
  {
   "cell_type": "markdown",
   "id": "b65ecc7c",
   "metadata": {},
   "source": [
    "#### noun phrase extractor"
   ]
  },
  {
   "cell_type": "code",
   "execution_count": 19,
   "id": "b63ac21b",
   "metadata": {},
   "outputs": [
    {
     "name": "stdout",
     "output_type": "stream",
     "text": [
      "> yes\n"
     ]
    }
   ],
   "source": [
    "user_input = input(\"> \")\n",
    "user_input_blob = TextBlob(user_input, np_extractor=extractor)  # note non-default extractor specified\n",
    "np = user_input_blob.noun_phrases "
   ]
  },
  {
   "cell_type": "markdown",
   "id": "3d5ee725",
   "metadata": {},
   "source": [
    "#### improved chatbot based on polarity of user input"
   ]
  },
  {
   "cell_type": "code",
   "execution_count": 21,
   "id": "f8bee0d2",
   "metadata": {},
   "outputs": [],
   "source": [
    "extractor = ConllExtractor()"
   ]
  },
  {
   "cell_type": "code",
   "execution_count": 22,
   "id": "7668f895",
   "metadata": {},
   "outputs": [
    {
     "name": "stdout",
     "output_type": "stream",
     "text": [
      "Hello, I am Marvin, the simple robot.\n",
      "You can end this conversation at any time by typing 'bye'\n",
      "After typing each answer, press 'enter'\n",
      ">hi\n",
      "Hmm, that's not great. \n",
      ">good\n",
      "Wow, that sounds great. \n",
      ">exit\n"
     ]
    }
   ],
   "source": [
    "print(\"\"\"Hello, I am Marvin, the simple robot.\n",
    "You can end this conversation at any time by typing 'bye'\n",
    "After typing each answer, press 'enter'\"\"\")\n",
    "\n",
    "while True:\n",
    "    input_text = input('>')\n",
    "    if input_text=='exit':\n",
    "        break\n",
    "    \n",
    "    user_input_blob = TextBlob(input_text, np_extractor=extractor)\n",
    "    response = ''\n",
    "    if user_input_blob.polarity <= -0.5:\n",
    "        response = \"Oh dear, that sounds bad. \"\n",
    "    elif user_input_blob.polarity <= 0:\n",
    "        response = \"Hmm, that's not great. \"\n",
    "    elif user_input_blob.polarity <= 0.5:\n",
    "        response = \"Well, that sounds positive. \"\n",
    "    elif user_input_blob.polarity <= 1:\n",
    "        response = \"Wow, that sounds great. \"\n",
    "    print(response)"
   ]
  },
  {
   "cell_type": "code",
   "execution_count": null,
   "id": "75b47af2",
   "metadata": {},
   "outputs": [],
   "source": []
  }
 ],
 "metadata": {
  "kernelspec": {
   "display_name": "env",
   "language": "python",
   "name": "env"
  },
  "language_info": {
   "codemirror_mode": {
    "name": "ipython",
    "version": 3
   },
   "file_extension": ".py",
   "mimetype": "text/x-python",
   "name": "python",
   "nbconvert_exporter": "python",
   "pygments_lexer": "ipython3",
   "version": "3.11.4"
  }
 },
 "nbformat": 4,
 "nbformat_minor": 5
}
