{
 "cells": [
  {
   "cell_type": "code",
   "execution_count": 7,
   "id": "ebb90df2",
   "metadata": {},
   "outputs": [],
   "source": [
    "#pip install -U textblob\n",
    "#python -m textblob.download_corpora"
   ]
  },
  {
   "cell_type": "code",
   "execution_count": 14,
   "id": "80a6df99",
   "metadata": {},
   "outputs": [],
   "source": [
    "import random"
   ]
  },
  {
   "cell_type": "markdown",
   "id": "5ac39dac",
   "metadata": {},
   "source": [
    "### Random chatbot"
   ]
  },
  {
   "cell_type": "markdown",
   "id": "806b80b6",
   "metadata": {},
   "source": [
    "#### Define random response"
   ]
  },
  {
   "cell_type": "code",
   "execution_count": 2,
   "id": "18064559",
   "metadata": {},
   "outputs": [],
   "source": [
    "random_responses = [\"That is quite interesting, please tell me more.\",\n",
    "                    \"I see. Do go on.\",\n",
    "                    \"Why do you say that?\",\n",
    "                    \"Funny weather we've been having, isn't it?\",\n",
    "                    \"Let's change the subject.\",\n",
    "                    \"Did you catch the game last night?\"]"
   ]
  },
  {
   "cell_type": "markdown",
   "id": "f9195660",
   "metadata": {},
   "source": [
    "#### simpleset randomized chatbot"
   ]
  },
  {
   "cell_type": "code",
   "execution_count": 13,
   "id": "26f1de94",
   "metadata": {},
   "outputs": [
    {
     "name": "stdout",
     "output_type": "stream",
     "text": [
      "Hello, I am Marvin, the simple robot.\n",
      "You can end this conversation at any time by typing 'bye'\n",
      "After typing each answer, press 'enter'\n",
      ">exit\n"
     ]
    }
   ],
   "source": [
    "print(\"\"\"Hello, I am Marvin, the simple robot.\n",
    "You can end this conversation at any time by typing 'bye'\n",
    "After typing each answer, press 'enter'\"\"\")\n",
    "\n",
    "while True:\n",
    "    input_text = input('>')\n",
    "    if input_text=='exit':\n",
    "        break\n",
    "    \n",
    "    output_text = random.choice(random_responses)\n",
    "    print(output_text)"
   ]
  },
  {
   "cell_type": "code",
   "execution_count": null,
   "id": "218a9cb0",
   "metadata": {},
   "outputs": [],
   "source": []
  }
 ],
 "metadata": {
  "kernelspec": {
   "display_name": "env",
   "language": "python",
   "name": "env"
  },
  "language_info": {
   "codemirror_mode": {
    "name": "ipython",
    "version": 3
   },
   "file_extension": ".py",
   "mimetype": "text/x-python",
   "name": "python",
   "nbconvert_exporter": "python",
   "pygments_lexer": "ipython3",
   "version": "3.11.4"
  }
 },
 "nbformat": 4,
 "nbformat_minor": 5
}
